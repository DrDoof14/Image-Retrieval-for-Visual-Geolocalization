{
 "cells": [
  {
   "cell_type": "markdown",
   "metadata": {
    "id": "_HDyIfmRqbSC"
   },
   "source": [
    "# 1. imports \n",
    "github_link : # https://github.com/gmberton/deep-visual-geo-localization-benchmark\n",
    "\n",
    "---\n",
    "\n",
    "\n",
    "\n",
    "---\n",
    "\n",
    "project discription: https://docs.google.com/document/d/1iKJRNHnyMx91Jo2FENALYpisQC_QyX5mw1YxRzty-ZM/edit#\n",
    "\n",
    "\n",
    "---\n",
    "\n",
    "\n"
   ]
  },
  {
   "cell_type": "code",
   "execution_count": 1,
   "metadata": {
    "colab": {
     "base_uri": "https://localhost:8080/"
    },
    "executionInfo": {
     "elapsed": 28087,
     "status": "ok",
     "timestamp": 1675536633084,
     "user": {
      "displayName": "Machine Learning",
      "userId": "09286115495407980146"
     },
     "user_tz": -210
    },
    "id": "xrcnI9ZFeF3C",
    "outputId": "80975990-16b7-49c7-88d6-12ca5dd31202"
   },
   "outputs": [
    {
     "name": "stdout",
     "output_type": "stream",
     "text": [
      "Mounted at /content/drive\n"
     ]
    }
   ],
   "source": [
    "from google.colab import drive\n",
    "drive.mount('/content/drive')"
   ]
  },
  {
   "cell_type": "markdown",
   "metadata": {
    "id": "KXBr77NHRflJ"
   },
   "source": [
    "## 1.1directories\n"
   ]
  },
  {
   "cell_type": "code",
   "execution_count": null,
   "metadata": {
    "id": "MVRax3ocm1mi"
   },
   "outputs": [],
   "source": [
    "import os \n",
    "from datetime import datetime\n",
    "import cv2\n",
    "import random\n",
    "from PIL import Image\n",
    "import time\n",
    "from matplotlib import pyplot as plt\n",
    "import time\n",
    "\n",
    "project_directory = '/content/drive/MyDrive'\n",
    "\n"
   ]
  },
  {
   "cell_type": "markdown",
   "metadata": {
    "id": "YBg9-mmDRT0F"
   },
   "source": [
    "# 1.2.Installing required libraries"
   ]
  },
  {
   "cell_type": "code",
   "execution_count": null,
   "metadata": {
    "id": "9N1or0Ztm4W-"
   },
   "outputs": [],
   "source": [
    "#  !pip install -r /content/drive/MyDrive/MLDL/deep-visual-geo-localization-benchmark-main/requirements.txt"
   ]
  },
  {
   "cell_type": "code",
   "execution_count": null,
   "metadata": {
    "colab": {
     "base_uri": "https://localhost:8080/"
    },
    "executionInfo": {
     "elapsed": 7077,
     "status": "ok",
     "timestamp": 1674230499207,
     "user": {
      "displayName": "Machine Learning",
      "userId": "09286115495407980146"
     },
     "user_tz": -210
    },
    "id": "wLL7Xj2U6G5T",
    "outputId": "3879b9cd-af85-4cb9-f9e4-f290c3053514"
   },
   "outputs": [
    {
     "name": "stdout",
     "output_type": "stream",
     "text": [
      "Looking in indexes: https://pypi.org/simple, https://us-python.pkg.dev/colab-wheels/public/simple/\n",
      "Requirement already satisfied: faiss-cpu in /usr/local/lib/python3.8/dist-packages (1.7.3)\n",
      "time is 7.158244848251343 \n"
     ]
    }
   ],
   "source": [
    "start_time = time.time()\n",
    "try:\n",
    "  import faiss\n",
    "except:\n",
    "  !pip install faiss-gpu\n",
    "!pip install faiss-cpu \n",
    "\n",
    "try:\n",
    "   import torchscan\n",
    "except:\n",
    "  !pip install torchscan\n",
    "\n",
    "try:\n",
    "    import timm\n",
    "except:\n",
    "  !pip install timm\n",
    "try:\n",
    "   import  transformers\n",
    "except:\n",
    "  !pip install transformers\n",
    "\n",
    "print('time is {} '.format(time.time() -start_time  ))"
   ]
  },
  {
   "cell_type": "markdown",
   "metadata": {
    "id": "FFwTAuibE0cJ"
   },
   "source": [
    "# 2. Ensemble"
   ]
  },
  {
   "cell_type": "markdown",
   "metadata": {
    "id": "M2h8U-fZoXuY"
   },
   "source": [
    " backbone : ResNet-18 pre-trained"
   ]
  },
  {
   "cell_type": "markdown",
   "metadata": {
    "id": "7nZA2eiNHLHf"
   },
   "source": [
    "### 2.1.1 testing pitts30k"
   ]
  },
  {
   "cell_type": "code",
   "execution_count": null,
   "metadata": {
    "colab": {
     "base_uri": "https://localhost:8080/"
    },
    "executionInfo": {
     "elapsed": 304914,
     "status": "ok",
     "timestamp": 1674230315007,
     "user": {
      "displayName": "Machine Learning",
      "userId": "09286115495407980146"
     },
     "user_tz": -210
    },
    "id": "D7EGkGkXP4_E",
    "outputId": "04519bea-8f7a-4e0c-ed73-bca31c9a7665"
   },
   "outputs": [
    {
     "name": "stdout",
     "output_type": "stream",
     "text": [
      "INFO:root:Arguments: Namespace(Ensembel=True, aggregation='netvlad', aggregation2='gem', backbone='resnet18conv4', brightness=0, cache_refresh_rate=1000, contrast=0, criterion='triplet', dataset_name='pitts30k', datasets_folder='/content/drive/MyDrive/MLDL/datasets_vg', device='cuda', efficient_ram_testing=False, epochs_num=1000, fc_output_dim=None, freeze_te=None, horizontal_flip=False, hue=0, infer_batch_size=16, l2='before_pool', lr=1e-05, lr_crn_layer=0.005, lr_crn_net=0.0005, majority_weight=0.01, margin=0.1, mining='partial', neg_samples_num=1000, negs_num_per_query=10, netvlad_clusters=64, num_workers=8, off_the_shelf='imagenet', optim='adam', patience=3, pca_dataset_folder=None, pca_dim=None, pretrain='imagenet', queries_per_epoch=5000, rand_perspective=0, random_resized_crop=0, random_rotation=0, recall_values=[1, 5, 10, 20], resize=[480, 640], resume='/content/drive/MyDrive/MLDL/results/base_netvlad/resume_training/2023-01-12_09-09-47/best_model.pth', resume2='/content/drive/MyDrive/MLDL/results/base_gem/2023-01-06_11-10-32/best_model.pth', saturation=0, save_dir='/content/drive/MyDrive/MLDL/results/Ensemble/pitts/2023-01-20_15-53-33', seed=0, test_method='hard_resize', train_batch_size=4, train_positives_dist_threshold=10, trunc_te=None, val_positive_dist_threshold=25)\n",
      "2023-01-20 15:53:33   Arguments: Namespace(Ensembel=True, aggregation='netvlad', aggregation2='gem', backbone='resnet18conv4', brightness=0, cache_refresh_rate=1000, contrast=0, criterion='triplet', dataset_name='pitts30k', datasets_folder='/content/drive/MyDrive/MLDL/datasets_vg', device='cuda', efficient_ram_testing=False, epochs_num=1000, fc_output_dim=None, freeze_te=None, horizontal_flip=False, hue=0, infer_batch_size=16, l2='before_pool', lr=1e-05, lr_crn_layer=0.005, lr_crn_net=0.0005, majority_weight=0.01, margin=0.1, mining='partial', neg_samples_num=1000, negs_num_per_query=10, netvlad_clusters=64, num_workers=8, off_the_shelf='imagenet', optim='adam', patience=3, pca_dataset_folder=None, pca_dim=None, pretrain='imagenet', queries_per_epoch=5000, rand_perspective=0, random_resized_crop=0, random_rotation=0, recall_values=[1, 5, 10, 20], resize=[480, 640], resume='/content/drive/MyDrive/MLDL/results/base_netvlad/resume_training/2023-01-12_09-09-47/best_model.pth', resume2='/content/drive/MyDrive/MLDL/results/base_gem/2023-01-06_11-10-32/best_model.pth', saturation=0, save_dir='/content/drive/MyDrive/MLDL/results/Ensemble/pitts/2023-01-20_15-53-33', seed=0, test_method='hard_resize', train_batch_size=4, train_positives_dist_threshold=10, trunc_te=None, val_positive_dist_threshold=25)\n",
      "INFO:root:The outputs are being saved in /content/drive/MyDrive/MLDL/results/Ensemble/pitts/2023-01-20_15-53-33\n",
      "2023-01-20 15:53:33   The outputs are being saved in /content/drive/MyDrive/MLDL/results/Ensemble/pitts/2023-01-20_15-53-33\n",
      "\n",
      " Ensemble mode has been activated \n",
      "\n",
      "/usr/local/lib/python3.8/dist-packages/torchvision/models/_utils.py:208: UserWarning: The parameter 'pretrained' is deprecated since 0.13 and may be removed in the future, please use 'weights' instead.\n",
      "  warnings.warn(\n",
      "/usr/local/lib/python3.8/dist-packages/torchvision/models/_utils.py:223: UserWarning: Arguments other than a weight enum or `None` for 'weights' are deprecated since 0.13 and may be removed in the future. The current behavior is equivalent to passing `weights=ResNet18_Weights.IMAGENET1K_V1`. You can also use `weights=ResNet18_Weights.DEFAULT` to get the most up-to-date weights.\n",
      "  warnings.warn(msg)\n",
      "DEBUG:root:Train only conv4_x of the resnetresnet18 (remove conv5_x), freeze the previous ones\n",
      "2023-01-20 15:53:33   Train only conv4_x of the resnetresnet18 (remove conv5_x), freeze the previous ones\n",
      ".aggregation2 gem\n",
      "second_model False\n",
      "DEBUG:root:Train only conv4_x of the resnetresnet18 (remove conv5_x), freeze the previous ones\n",
      "2023-01-20 15:53:36   Train only conv4_x of the resnetresnet18 (remove conv5_x), freeze the previous ones\n",
      ".aggregation2 gem\n",
      "second_model True\n",
      "model1 is resumed from :  /content/drive/MyDrive/MLDL/results/base_netvlad/resume_training/2023-01-12_09-09-47/best_model.pth\n",
      "model2 is resumed from :  /content/drive/MyDrive/MLDL/results/base_gem/2023-01-06_11-10-32/best_model.pth\n",
      "\n",
      " models have been resumed \n",
      "\n",
      "INFO:root:Test set: < BaseDataset, pitts30k - #database: 10000; #queries: 6816 >\n",
      "2023-01-20 15:53:40   Test set: < BaseDataset, pitts30k - #database: 10000; #queries: 6816 >\n",
      "\n",
      " pca :     None\n",
      "DEBUG:root:Extracting database features for evaluation/testing\n",
      "2023-01-20 15:53:40   Extracting database features for evaluation/testing\n",
      "/usr/local/lib/python3.8/dist-packages/torch/utils/data/dataloader.py:554: UserWarning: This DataLoader will create 8 worker processes in total. Our suggested max number of worker in current system is 2, which is smaller than what this DataLoader is going to create. Please be aware that excessive worker creation might get DataLoader running slow or even freeze, lower the worker number to avoid potential slowness/freeze if necessary.\n",
      "  warnings.warn(_create_warning_msg(\n",
      "tcmalloc: large alloc 1119272960 bytes == 0x70682000 @  0x7f5ea6460680 0x7f5ea6481824 0x7f5e2dc9714e 0x7f5e2dcef745 0x7f5e2dcef9bf 0x7f5e2dd92773 0x5c4677 0x56cc92 0x569d8a 0x5f60c3 0x570b82 0x569d8a 0x68e267 0x67d9b1 0x67da2f 0x67dad1 0x67fbf7 0x6b8082 0x6b840d 0x7f5ea625f083 0x5faa2e\n",
      "  0%|                                                                       | 0/625 [00:00<?, ?it/s]\n",
      " model 1 feature size is (16, 16384) model2 feature size is(16, 256)\n",
      "\n",
      "  all feature size is:(16816, 16640)\n",
      "100%|█████████████████████████████████████████████████████████████| 625/625 [02:38<00:00,  3.94it/s]\n",
      "DEBUG:root:Extracting queries features for evaluation/testing\n",
      "2023-01-20 15:56:18   Extracting queries features for evaluation/testing\n",
      "100%|█████████████████████████████████████████████████████████████| 426/426 [01:40<00:00,  4.25it/s]\n",
      "DEBUG:root:Calculating recalls\n",
      "2023-01-20 15:57:59   Calculating recalls\n",
      "INFO:root:Recalls on < BaseDataset, pitts30k - #database: 10000; #queries: 6816 >: R@1: 85.6, R@5: 92.9, R@10: 94.8, R@20: 96.5\n",
      "2023-01-20 15:58:31   Recalls on < BaseDataset, pitts30k - #database: 10000; #queries: 6816 >: R@1: 85.6, R@5: 92.9, R@10: 94.8, R@20: 96.5\n",
      "INFO:root:Finished in 0:04:58\n",
      "2023-01-20 15:58:31   Finished in 0:04:58\n"
     ]
    }
   ],
   "source": [
    "os.chdir('/content/drive/MyDrive/MLDL/deep-visual-geo-localization-benchmark-main')\n",
    "!python3 eval.py  --datasets_folder '/content/drive/MyDrive/MLDL/datasets_vg' \\\n",
    "--Ensembel True\\\n",
    "--resume   '/content/drive/MyDrive/MLDL/results/base_netvlad/resume_training/2023-01-12_09-09-47/best_model.pth'\\\n",
    "--dataset_name=pitts30k \\\n",
    "--backbone=resnet18conv4\\\n",
    "--aggregation=netvlad\\\n",
    "--save_dir '/content/drive/MyDrive/MLDL/results/Ensemble/pitts'\\\n",
    "--aggregation2 gem\\\n",
    "--resume2 '/content/drive/MyDrive/MLDL/results/base_gem/2023-01-06_11-10-32/best_model.pth'\n"
   ]
  },
  {
   "cell_type": "markdown",
   "metadata": {
    "id": "UxusKGS3HQqR"
   },
   "source": [
    "### 2.1.2 testing sf_xs"
   ]
  },
  {
   "cell_type": "code",
   "execution_count": null,
   "metadata": {
    "colab": {
     "base_uri": "https://localhost:8080/"
    },
    "executionInfo": {
     "elapsed": 1005654,
     "status": "ok",
     "timestamp": 1674231504856,
     "user": {
      "displayName": "Machine Learning",
      "userId": "09286115495407980146"
     },
     "user_tz": -210
    },
    "id": "aQot925dG_5S",
    "outputId": "e65b996b-2903-4808-960c-2874b9ce291c"
   },
   "outputs": [
    {
     "name": "stdout",
     "output_type": "stream",
     "text": [
      "INFO:root:Arguments: Namespace(Ensembel=True, aggregation='netvlad', aggregation2='gem', backbone='resnet18conv4', brightness=0, cache_refresh_rate=1000, contrast=0, criterion='triplet', dataset_name='sf_xs', datasets_folder='/content/drive/MyDrive/MLDL/sf-xs', device='cuda', efficient_ram_testing=False, epochs_num=1000, fc_output_dim=None, freeze_te=None, horizontal_flip=False, hue=0, infer_batch_size=16, l2='before_pool', lr=1e-05, lr_crn_layer=0.005, lr_crn_net=0.0005, majority_weight=0.01, margin=0.1, mining='partial', neg_samples_num=1000, negs_num_per_query=10, netvlad_clusters=64, num_workers=8, off_the_shelf='imagenet', optim='adam', patience=3, pca_dataset_folder=None, pca_dim=None, pretrain='imagenet', queries_per_epoch=5000, rand_perspective=0, random_resized_crop=0, random_rotation=0, recall_values=[1, 5, 10, 20], resize=[480, 640], resume='/content/drive/MyDrive/MLDL/results/base_netvlad/resume_training/2023-01-12_09-09-47/best_model.pth', resume2='/content/drive/MyDrive/MLDL/results/base_gem/2023-01-06_11-10-32/best_model.pth', saturation=0, save_dir='/content/drive/MyDrive/MLDL/results/Ensemble/sf_xs/2023-01-20_16-01-43', seed=0, test_method='hard_resize', train_batch_size=4, train_positives_dist_threshold=10, trunc_te=None, val_positive_dist_threshold=25)\n",
      "2023-01-20 16:01:43   Arguments: Namespace(Ensembel=True, aggregation='netvlad', aggregation2='gem', backbone='resnet18conv4', brightness=0, cache_refresh_rate=1000, contrast=0, criterion='triplet', dataset_name='sf_xs', datasets_folder='/content/drive/MyDrive/MLDL/sf-xs', device='cuda', efficient_ram_testing=False, epochs_num=1000, fc_output_dim=None, freeze_te=None, horizontal_flip=False, hue=0, infer_batch_size=16, l2='before_pool', lr=1e-05, lr_crn_layer=0.005, lr_crn_net=0.0005, majority_weight=0.01, margin=0.1, mining='partial', neg_samples_num=1000, negs_num_per_query=10, netvlad_clusters=64, num_workers=8, off_the_shelf='imagenet', optim='adam', patience=3, pca_dataset_folder=None, pca_dim=None, pretrain='imagenet', queries_per_epoch=5000, rand_perspective=0, random_resized_crop=0, random_rotation=0, recall_values=[1, 5, 10, 20], resize=[480, 640], resume='/content/drive/MyDrive/MLDL/results/base_netvlad/resume_training/2023-01-12_09-09-47/best_model.pth', resume2='/content/drive/MyDrive/MLDL/results/base_gem/2023-01-06_11-10-32/best_model.pth', saturation=0, save_dir='/content/drive/MyDrive/MLDL/results/Ensemble/sf_xs/2023-01-20_16-01-43', seed=0, test_method='hard_resize', train_batch_size=4, train_positives_dist_threshold=10, trunc_te=None, val_positive_dist_threshold=25)\n",
      "INFO:root:The outputs are being saved in /content/drive/MyDrive/MLDL/results/Ensemble/sf_xs/2023-01-20_16-01-43\n",
      "2023-01-20 16:01:43   The outputs are being saved in /content/drive/MyDrive/MLDL/results/Ensemble/sf_xs/2023-01-20_16-01-43\n",
      "\n",
      " Ensemble mode has been activated \n",
      "\n",
      "/usr/local/lib/python3.8/dist-packages/torchvision/models/_utils.py:208: UserWarning: The parameter 'pretrained' is deprecated since 0.13 and may be removed in the future, please use 'weights' instead.\n",
      "  warnings.warn(\n",
      "/usr/local/lib/python3.8/dist-packages/torchvision/models/_utils.py:223: UserWarning: Arguments other than a weight enum or `None` for 'weights' are deprecated since 0.13 and may be removed in the future. The current behavior is equivalent to passing `weights=ResNet18_Weights.IMAGENET1K_V1`. You can also use `weights=ResNet18_Weights.DEFAULT` to get the most up-to-date weights.\n",
      "  warnings.warn(msg)\n",
      "DEBUG:root:Train only conv4_x of the resnetresnet18 (remove conv5_x), freeze the previous ones\n",
      "2023-01-20 16:01:43   Train only conv4_x of the resnetresnet18 (remove conv5_x), freeze the previous ones\n",
      ".aggregation2 gem\n",
      "second_model False\n",
      "DEBUG:root:Train only conv4_x of the resnetresnet18 (remove conv5_x), freeze the previous ones\n",
      "2023-01-20 16:01:46   Train only conv4_x of the resnetresnet18 (remove conv5_x), freeze the previous ones\n",
      ".aggregation2 gem\n",
      "second_model True\n",
      "model1 is resumed from :  /content/drive/MyDrive/MLDL/results/base_netvlad/resume_training/2023-01-12_09-09-47/best_model.pth\n",
      "model2 is resumed from :  /content/drive/MyDrive/MLDL/results/base_gem/2023-01-06_11-10-32/best_model.pth\n",
      "\n",
      " models have been resumed \n",
      "\n",
      "INFO:root:Test set: < BaseDataset, sf_xs - #database: 27191; #queries: 1000 >\n",
      "2023-01-20 16:02:39   Test set: < BaseDataset, sf_xs - #database: 27191; #queries: 1000 >\n",
      "\n",
      " pca :     None\n",
      "DEBUG:root:Extracting database features for evaluation/testing\n",
      "2023-01-20 16:02:39   Extracting database features for evaluation/testing\n",
      "/usr/local/lib/python3.8/dist-packages/torch/utils/data/dataloader.py:554: UserWarning: This DataLoader will create 8 worker processes in total. Our suggested max number of worker in current system is 2, which is smaller than what this DataLoader is going to create. Please be aware that excessive worker creation might get DataLoader running slow or even freeze, lower the worker number to avoid potential slowness/freeze if necessary.\n",
      "  warnings.warn(_create_warning_msg(\n",
      "tcmalloc: large alloc 1876393984 bytes == 0x6f1b4000 @  0x7f3a99668680 0x7f3a99689824 0x7f3a20e9f14e 0x7f3a20ef7745 0x7f3a20ef79bf 0x7f3a20f9a773 0x5c4677 0x56cc92 0x569d8a 0x5f60c3 0x570b82 0x569d8a 0x68e267 0x67d9b1 0x67da2f 0x67dad1 0x67fbf7 0x6b8082 0x6b840d 0x7f3a99467083 0x5faa2e\n",
      "  0%|                                                                      | 0/1700 [00:00<?, ?it/s]\n",
      " model 1 feature size is (16, 16384) model2 feature size is(16, 256)\n",
      "\n",
      "  all feature size is:(28191, 16640)\n",
      "100%|███████████████████████████████████████████████████████████| 1700/1700 [13:38<00:00,  2.08it/s]\n",
      "DEBUG:root:Extracting queries features for evaluation/testing\n",
      "2023-01-20 16:16:17   Extracting queries features for evaluation/testing\n",
      "100%|███████████████████████████████████████████████████████████████| 63/63 [01:48<00:00,  1.72s/it]\n",
      "tcmalloc: large alloc 1809833984 bytes == 0x1297f6000 @  0x7f3a99668680 0x7f3a99688ff4 0x7f3a0eb8421b 0x7f3a0ebcbb09 0x7f3a0eadc315 0x5f5bda 0x5f6706 0x571143 0x5f5ee6 0x56bbe1 0x569d8a 0x5f60c3 0x56bbe1 0x569d8a 0x5f60c3 0x570b82 0x569d8a 0x68e267 0x67d9b1 0x67da2f 0x67dad1 0x67fbf7 0x6b8082 0x6b840d 0x7f3a99467083 0x5faa2e\n",
      "DEBUG:root:Calculating recalls\n",
      "2023-01-20 16:18:07   Calculating recalls\n",
      "INFO:root:Recalls on < BaseDataset, sf_xs - #database: 27191; #queries: 1000 >: R@1: 35.0, R@5: 50.6, R@10: 56.7, R@20: 62.6\n",
      "2023-01-20 16:18:20   Recalls on < BaseDataset, sf_xs - #database: 27191; #queries: 1000 >: R@1: 35.0, R@5: 50.6, R@10: 56.7, R@20: 62.6\n",
      "INFO:root:Finished in 0:16:36\n",
      "2023-01-20 16:18:20   Finished in 0:16:36\n"
     ]
    }
   ],
   "source": [
    "os.chdir('/content/drive/MyDrive/MLDL/deep-visual-geo-localization-benchmark-main')\n",
    "!python3 eval.py  --datasets_folder '/content/drive/MyDrive/MLDL/sf-xs' \\\n",
    "--Ensembel True\\\n",
    "--resume   '/content/drive/MyDrive/MLDL/results/base_netvlad/resume_training/2023-01-12_09-09-47/best_model.pth'\\\n",
    "--dataset_name=sf_xs \\\n",
    "--backbone=resnet18conv4\\\n",
    "--aggregation=netvlad\\\n",
    "--save_dir '/content/drive/MyDrive/MLDL/results/Ensemble/sf_xs'\\\n",
    "--aggregation2 gem\\\n",
    "--resume2 '/content/drive/MyDrive/MLDL/results/base_gem/2023-01-06_11-10-32/best_model.pth'\n"
   ]
  },
  {
   "cell_type": "markdown",
   "metadata": {
    "id": "Y0CjsJVRHjE9"
   },
   "source": [
    "### 2.1.3 testing tokyo_xs\n"
   ]
  },
  {
   "cell_type": "code",
   "execution_count": null,
   "metadata": {
    "colab": {
     "base_uri": "https://localhost:8080/"
    },
    "executionInfo": {
     "elapsed": 565050,
     "status": "ok",
     "timestamp": 1674232069899,
     "user": {
      "displayName": "Machine Learning",
      "userId": "09286115495407980146"
     },
     "user_tz": -210
    },
    "id": "3JKei_VJH6u_",
    "outputId": "22aae6a4-c345-4b33-d679-4445f99573fe"
   },
   "outputs": [
    {
     "name": "stdout",
     "output_type": "stream",
     "text": [
      "INFO:root:Arguments: Namespace(Ensembel=True, aggregation='netvlad', aggregation2='gem', backbone='resnet18conv4', brightness=0, cache_refresh_rate=1000, contrast=0, criterion='triplet', dataset_name='tokyo_xs', datasets_folder='/content/drive/MyDrive/MLDL/datasets_vg', device='cuda', efficient_ram_testing=False, epochs_num=1000, fc_output_dim=None, freeze_te=None, horizontal_flip=False, hue=0, infer_batch_size=16, l2='before_pool', lr=1e-05, lr_crn_layer=0.005, lr_crn_net=0.0005, majority_weight=0.01, margin=0.1, mining='partial', neg_samples_num=1000, negs_num_per_query=10, netvlad_clusters=64, num_workers=8, off_the_shelf='imagenet', optim='adam', patience=3, pca_dataset_folder=None, pca_dim=None, pretrain='imagenet', queries_per_epoch=5000, rand_perspective=0, random_resized_crop=0, random_rotation=0, recall_values=[1, 5, 10, 20], resize=[480, 640], resume='/content/drive/MyDrive/MLDL/results/base_netvlad/resume_training/2023-01-12_09-09-47/best_model.pth', resume2='/content/drive/MyDrive/MLDL/results/base_gem/2023-01-06_11-10-32/best_model.pth', saturation=0, save_dir='/content/drive/MyDrive/MLDL/results/Ensemble/tokyo_xs/2023-01-20_16-18-33', seed=0, test_method='hard_resize', train_batch_size=4, train_positives_dist_threshold=10, trunc_te=None, val_positive_dist_threshold=25)\n",
      "2023-01-20 16:18:33   Arguments: Namespace(Ensembel=True, aggregation='netvlad', aggregation2='gem', backbone='resnet18conv4', brightness=0, cache_refresh_rate=1000, contrast=0, criterion='triplet', dataset_name='tokyo_xs', datasets_folder='/content/drive/MyDrive/MLDL/datasets_vg', device='cuda', efficient_ram_testing=False, epochs_num=1000, fc_output_dim=None, freeze_te=None, horizontal_flip=False, hue=0, infer_batch_size=16, l2='before_pool', lr=1e-05, lr_crn_layer=0.005, lr_crn_net=0.0005, majority_weight=0.01, margin=0.1, mining='partial', neg_samples_num=1000, negs_num_per_query=10, netvlad_clusters=64, num_workers=8, off_the_shelf='imagenet', optim='adam', patience=3, pca_dataset_folder=None, pca_dim=None, pretrain='imagenet', queries_per_epoch=5000, rand_perspective=0, random_resized_crop=0, random_rotation=0, recall_values=[1, 5, 10, 20], resize=[480, 640], resume='/content/drive/MyDrive/MLDL/results/base_netvlad/resume_training/2023-01-12_09-09-47/best_model.pth', resume2='/content/drive/MyDrive/MLDL/results/base_gem/2023-01-06_11-10-32/best_model.pth', saturation=0, save_dir='/content/drive/MyDrive/MLDL/results/Ensemble/tokyo_xs/2023-01-20_16-18-33', seed=0, test_method='hard_resize', train_batch_size=4, train_positives_dist_threshold=10, trunc_te=None, val_positive_dist_threshold=25)\n",
      "INFO:root:The outputs are being saved in /content/drive/MyDrive/MLDL/results/Ensemble/tokyo_xs/2023-01-20_16-18-33\n",
      "2023-01-20 16:18:33   The outputs are being saved in /content/drive/MyDrive/MLDL/results/Ensemble/tokyo_xs/2023-01-20_16-18-33\n",
      "\n",
      " Ensemble mode has been activated \n",
      "\n",
      "/usr/local/lib/python3.8/dist-packages/torchvision/models/_utils.py:208: UserWarning: The parameter 'pretrained' is deprecated since 0.13 and may be removed in the future, please use 'weights' instead.\n",
      "  warnings.warn(\n",
      "/usr/local/lib/python3.8/dist-packages/torchvision/models/_utils.py:223: UserWarning: Arguments other than a weight enum or `None` for 'weights' are deprecated since 0.13 and may be removed in the future. The current behavior is equivalent to passing `weights=ResNet18_Weights.IMAGENET1K_V1`. You can also use `weights=ResNet18_Weights.DEFAULT` to get the most up-to-date weights.\n",
      "  warnings.warn(msg)\n",
      "DEBUG:root:Train only conv4_x of the resnetresnet18 (remove conv5_x), freeze the previous ones\n",
      "2023-01-20 16:18:34   Train only conv4_x of the resnetresnet18 (remove conv5_x), freeze the previous ones\n",
      ".aggregation2 gem\n",
      "second_model False\n",
      "DEBUG:root:Train only conv4_x of the resnetresnet18 (remove conv5_x), freeze the previous ones\n",
      "2023-01-20 16:18:38   Train only conv4_x of the resnetresnet18 (remove conv5_x), freeze the previous ones\n",
      ".aggregation2 gem\n",
      "second_model True\n",
      "model1 is resumed from :  /content/drive/MyDrive/MLDL/results/base_netvlad/resume_training/2023-01-12_09-09-47/best_model.pth\n",
      "model2 is resumed from :  /content/drive/MyDrive/MLDL/results/base_gem/2023-01-06_11-10-32/best_model.pth\n",
      "\n",
      " models have been resumed \n",
      "\n",
      "INFO:root:Test set: < BaseDataset, tokyo_xs - #database: 12771; #queries: 315 >\n",
      "2023-01-20 16:20:21   Test set: < BaseDataset, tokyo_xs - #database: 12771; #queries: 315 >\n",
      "\n",
      " pca :     None\n",
      "DEBUG:root:Extracting database features for evaluation/testing\n",
      "2023-01-20 16:20:21   Extracting database features for evaluation/testing\n",
      "/usr/local/lib/python3.8/dist-packages/torch/utils/data/dataloader.py:554: UserWarning: This DataLoader will create 8 worker processes in total. Our suggested max number of worker in current system is 2, which is smaller than what this DataLoader is going to create. Please be aware that excessive worker creation might get DataLoader running slow or even freeze, lower the worker number to avoid potential slowness/freeze if necessary.\n",
      "  warnings.warn(_create_warning_msg(\n",
      "  0%|                                                                       | 0/799 [00:00<?, ?it/s]\n",
      " model 1 feature size is (16, 16384) model2 feature size is(16, 256)\n",
      "\n",
      "  all feature size is:(13086, 16640)\n",
      "100%|█████████████████████████████████████████████████████████████| 799/799 [06:39<00:00,  2.00it/s]\n",
      "DEBUG:root:Extracting queries features for evaluation/testing\n",
      "2023-01-20 16:27:00   Extracting queries features for evaluation/testing\n",
      "100%|███████████████████████████████████████████████████████████████| 20/20 [00:42<00:00,  2.10s/it]\n",
      "DEBUG:root:Calculating recalls\n",
      "2023-01-20 16:27:43   Calculating recalls\n",
      "INFO:root:Recalls on < BaseDataset, tokyo_xs - #database: 12771; #queries: 315 >: R@1: 54.0, R@5: 70.5, R@10: 74.9, R@20: 79.4\n",
      "2023-01-20 16:27:45   Recalls on < BaseDataset, tokyo_xs - #database: 12771; #queries: 315 >: R@1: 54.0, R@5: 70.5, R@10: 74.9, R@20: 79.4\n",
      "INFO:root:Finished in 0:09:11\n",
      "2023-01-20 16:27:45   Finished in 0:09:11\n"
     ]
    }
   ],
   "source": [
    "os.chdir('/content/drive/MyDrive/MLDL/deep-visual-geo-localization-benchmark-main')\n",
    "!python3 eval.py  --datasets_folder '/content/drive/MyDrive/MLDL/datasets_vg' \\\n",
    "--Ensembel True\\\n",
    "--resume   '/content/drive/MyDrive/MLDL/results/base_netvlad/resume_training/2023-01-12_09-09-47/best_model.pth'\\\n",
    "--dataset_name=tokyo_xs \\\n",
    "--backbone=resnet18conv4\\\n",
    "--aggregation=netvlad\\\n",
    "--save_dir '/content/drive/MyDrive/MLDL/results/Ensemble/tokyo_xs'\\\n",
    "--aggregation2 gem\\\n",
    "--resume2 '/content/drive/MyDrive/MLDL/results/base_gem/2023-01-06_11-10-32/best_model.pth'\n"
   ]
  },
  {
   "cell_type": "markdown",
   "metadata": {
    "id": "e4Y4H3lXIFe4"
   },
   "source": [
    "### 2.1.4 testing tokyo_night"
   ]
  },
  {
   "cell_type": "code",
   "execution_count": null,
   "metadata": {
    "colab": {
     "base_uri": "https://localhost:8080/"
    },
    "executionInfo": {
     "elapsed": 536385,
     "status": "ok",
     "timestamp": 1674232606273,
     "user": {
      "displayName": "Machine Learning",
      "userId": "09286115495407980146"
     },
     "user_tz": -210
    },
    "id": "fTEtDvKJIII2",
    "outputId": "50b75ea3-f9b5-49e8-ced5-9875a18d08e5"
   },
   "outputs": [
    {
     "name": "stdout",
     "output_type": "stream",
     "text": [
      "INFO:root:Arguments: Namespace(Ensembel=True, aggregation='netvlad', aggregation2='gem', backbone='resnet18conv4', brightness=0, cache_refresh_rate=1000, contrast=0, criterion='triplet', dataset_name='tokyo_night', datasets_folder='/content/drive/MyDrive/MLDL/datasets_vg', device='cuda', efficient_ram_testing=False, epochs_num=1000, fc_output_dim=None, freeze_te=None, horizontal_flip=False, hue=0, infer_batch_size=16, l2='before_pool', lr=1e-05, lr_crn_layer=0.005, lr_crn_net=0.0005, majority_weight=0.01, margin=0.1, mining='partial', neg_samples_num=1000, negs_num_per_query=10, netvlad_clusters=64, num_workers=8, off_the_shelf='imagenet', optim='adam', patience=3, pca_dataset_folder=None, pca_dim=None, pretrain='imagenet', queries_per_epoch=5000, rand_perspective=0, random_resized_crop=0, random_rotation=0, recall_values=[1, 5, 10, 20], resize=[480, 640], resume='/content/drive/MyDrive/MLDL/results/base_netvlad/resume_training/2023-01-12_09-09-47/best_model.pth', resume2='/content/drive/MyDrive/MLDL/results/base_gem/2023-01-06_11-10-32/best_model.pth', saturation=0, save_dir='/content/drive/MyDrive/MLDL/results/Ensemble/tokyo_night/2023-01-20_16-27-55', seed=0, test_method='hard_resize', train_batch_size=4, train_positives_dist_threshold=10, trunc_te=None, val_positive_dist_threshold=25)\n",
      "2023-01-20 16:27:55   Arguments: Namespace(Ensembel=True, aggregation='netvlad', aggregation2='gem', backbone='resnet18conv4', brightness=0, cache_refresh_rate=1000, contrast=0, criterion='triplet', dataset_name='tokyo_night', datasets_folder='/content/drive/MyDrive/MLDL/datasets_vg', device='cuda', efficient_ram_testing=False, epochs_num=1000, fc_output_dim=None, freeze_te=None, horizontal_flip=False, hue=0, infer_batch_size=16, l2='before_pool', lr=1e-05, lr_crn_layer=0.005, lr_crn_net=0.0005, majority_weight=0.01, margin=0.1, mining='partial', neg_samples_num=1000, negs_num_per_query=10, netvlad_clusters=64, num_workers=8, off_the_shelf='imagenet', optim='adam', patience=3, pca_dataset_folder=None, pca_dim=None, pretrain='imagenet', queries_per_epoch=5000, rand_perspective=0, random_resized_crop=0, random_rotation=0, recall_values=[1, 5, 10, 20], resize=[480, 640], resume='/content/drive/MyDrive/MLDL/results/base_netvlad/resume_training/2023-01-12_09-09-47/best_model.pth', resume2='/content/drive/MyDrive/MLDL/results/base_gem/2023-01-06_11-10-32/best_model.pth', saturation=0, save_dir='/content/drive/MyDrive/MLDL/results/Ensemble/tokyo_night/2023-01-20_16-27-55', seed=0, test_method='hard_resize', train_batch_size=4, train_positives_dist_threshold=10, trunc_te=None, val_positive_dist_threshold=25)\n",
      "INFO:root:The outputs are being saved in /content/drive/MyDrive/MLDL/results/Ensemble/tokyo_night/2023-01-20_16-27-55\n",
      "2023-01-20 16:27:55   The outputs are being saved in /content/drive/MyDrive/MLDL/results/Ensemble/tokyo_night/2023-01-20_16-27-55\n",
      "\n",
      " Ensemble mode has been activated \n",
      "\n",
      "/usr/local/lib/python3.8/dist-packages/torchvision/models/_utils.py:208: UserWarning: The parameter 'pretrained' is deprecated since 0.13 and may be removed in the future, please use 'weights' instead.\n",
      "  warnings.warn(\n",
      "/usr/local/lib/python3.8/dist-packages/torchvision/models/_utils.py:223: UserWarning: Arguments other than a weight enum or `None` for 'weights' are deprecated since 0.13 and may be removed in the future. The current behavior is equivalent to passing `weights=ResNet18_Weights.IMAGENET1K_V1`. You can also use `weights=ResNet18_Weights.DEFAULT` to get the most up-to-date weights.\n",
      "  warnings.warn(msg)\n",
      "DEBUG:root:Train only conv4_x of the resnetresnet18 (remove conv5_x), freeze the previous ones\n",
      "2023-01-20 16:27:56   Train only conv4_x of the resnetresnet18 (remove conv5_x), freeze the previous ones\n",
      ".aggregation2 gem\n",
      "second_model False\n",
      "DEBUG:root:Train only conv4_x of the resnetresnet18 (remove conv5_x), freeze the previous ones\n",
      "2023-01-20 16:27:58   Train only conv4_x of the resnetresnet18 (remove conv5_x), freeze the previous ones\n",
      ".aggregation2 gem\n",
      "second_model True\n",
      "model1 is resumed from :  /content/drive/MyDrive/MLDL/results/base_netvlad/resume_training/2023-01-12_09-09-47/best_model.pth\n",
      "model2 is resumed from :  /content/drive/MyDrive/MLDL/results/base_gem/2023-01-06_11-10-32/best_model.pth\n",
      "\n",
      " models have been resumed \n",
      "\n",
      "INFO:root:Test set: < BaseDataset, tokyo_night - #database: 12771; #queries: 105 >\n",
      "2023-01-20 16:29:46   Test set: < BaseDataset, tokyo_night - #database: 12771; #queries: 105 >\n",
      "\n",
      " pca :     None\n",
      "DEBUG:root:Extracting database features for evaluation/testing\n",
      "2023-01-20 16:29:46   Extracting database features for evaluation/testing\n",
      "/usr/local/lib/python3.8/dist-packages/torch/utils/data/dataloader.py:554: UserWarning: This DataLoader will create 8 worker processes in total. Our suggested max number of worker in current system is 2, which is smaller than what this DataLoader is going to create. Please be aware that excessive worker creation might get DataLoader running slow or even freeze, lower the worker number to avoid potential slowness/freeze if necessary.\n",
      "  warnings.warn(_create_warning_msg(\n",
      "  0%|                                                                       | 0/799 [00:00<?, ?it/s]\n",
      " model 1 feature size is (16, 16384) model2 feature size is(16, 256)\n",
      "\n",
      "  all feature size is:(12876, 16640)\n",
      "100%|█████████████████████████████████████████████████████████████| 799/799 [06:40<00:00,  1.99it/s]\n",
      "DEBUG:root:Extracting queries features for evaluation/testing\n",
      "2023-01-20 16:36:27   Extracting queries features for evaluation/testing\n",
      "100%|█████████████████████████████████████████████████████████████████| 7/7 [00:12<00:00,  1.72s/it]\n",
      "DEBUG:root:Calculating recalls\n",
      "2023-01-20 16:36:39   Calculating recalls\n",
      "INFO:root:Recalls on < BaseDataset, tokyo_night - #database: 12771; #queries: 105 >: R@1: 22.9, R@5: 41.9, R@10: 47.6, R@20: 54.3\n",
      "2023-01-20 16:36:40   Recalls on < BaseDataset, tokyo_night - #database: 12771; #queries: 105 >: R@1: 22.9, R@5: 41.9, R@10: 47.6, R@20: 54.3\n",
      "INFO:root:Finished in 0:08:44\n",
      "2023-01-20 16:36:40   Finished in 0:08:44\n"
     ]
    }
   ],
   "source": [
    "os.chdir('/content/drive/MyDrive/MLDL/deep-visual-geo-localization-benchmark-main')\n",
    "!python3 eval.py  --datasets_folder '/content/drive/MyDrive/MLDL/datasets_vg' \\\n",
    "--Ensembel True\\\n",
    "--resume   '/content/drive/MyDrive/MLDL/results/base_netvlad/resume_training/2023-01-12_09-09-47/best_model.pth'\\\n",
    "--dataset_name=tokyo_night \\\n",
    "--backbone=resnet18conv4\\\n",
    "--aggregation=netvlad\\\n",
    "--save_dir '/content/drive/MyDrive/MLDL/results/Ensemble/tokyo_night'\\\n",
    "--aggregation2 gem\\\n",
    "--resume2 '/content/drive/MyDrive/MLDL/results/base_gem/2023-01-06_11-10-32/best_model.pth'\n",
    "\n"
   ]
  },
  {
   "cell_type": "code",
   "execution_count": null,
   "metadata": {
    "id": "07t0C5c6J1z6"
   },
   "outputs": [],
   "source": []
  }
 ],
 "metadata": {
  "colab": {
   "provenance": []
  },
  "gpuClass": "standard",
  "kernelspec": {
   "display_name": "Python 3 (ipykernel)",
   "language": "python",
   "name": "python3"
  },
  "language_info": {
   "codemirror_mode": {
    "name": "ipython",
    "version": 3
   },
   "file_extension": ".py",
   "mimetype": "text/x-python",
   "name": "python",
   "nbconvert_exporter": "python",
   "pygments_lexer": "ipython3",
   "version": "3.9.7"
  }
 },
 "nbformat": 4,
 "nbformat_minor": 1
}
